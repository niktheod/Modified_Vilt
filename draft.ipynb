{
 "cells": [
  {
   "cell_type": "code",
   "execution_count": 2,
   "metadata": {},
   "outputs": [],
   "source": [
    "from PIL import Image\n",
    "from utility import ViltImageSetProcessor\n",
    "from transformers import ViltImageProcessor, BertTokenizer"
   ]
  },
  {
   "cell_type": "code",
   "execution_count": 3,
   "metadata": {},
   "outputs": [],
   "source": [
    "img_path = \"/home/nikostheodoridis/nuscenes/samples/CAM_BACK/n008-2018-05-21-11-06-59-0400__CAM_BACK__1526915246937570.jpg\""
   ]
  },
  {
   "cell_type": "code",
   "execution_count": 4,
   "metadata": {},
   "outputs": [],
   "source": [
    "img = Image.open(img_path)"
   ]
  },
  {
   "cell_type": "code",
   "execution_count": 9,
   "metadata": {},
   "outputs": [],
   "source": [
    "processor = ViltImageProcessor()"
   ]
  },
  {
   "cell_type": "code",
   "execution_count": 10,
   "metadata": {},
   "outputs": [],
   "source": [
    "x = processor(img)"
   ]
  },
  {
   "cell_type": "code",
   "execution_count": 13,
   "metadata": {},
   "outputs": [
    {
     "data": {
      "text/plain": [
       "(3, 352, 608)"
      ]
     },
     "execution_count": 13,
     "metadata": {},
     "output_type": "execute_result"
    }
   ],
   "source": [
    "x[\"pixel_values\"][0].shape"
   ]
  },
  {
   "cell_type": "code",
   "execution_count": 12,
   "metadata": {},
   "outputs": [
    {
     "data": {
      "text/plain": [
       "{'pixel_values': [array([[[-0.41176468, -0.41176468, -0.42745095, ..., -0.32549018,\n",
       "         -0.32549018, -0.31764704],\n",
       "        [-0.41960782, -0.41176468, -0.41960782, ..., -0.31764704,\n",
       "         -0.32549018, -0.32549018],\n",
       "        [-0.42745095, -0.41176468, -0.41176468, ..., -0.3098039 ,\n",
       "         -0.32549018, -0.3333333 ],\n",
       "        ...,\n",
       "        [ 0.5764706 ,  0.5764706 ,  0.58431375, ...,  0.4666667 ,\n",
       "          0.4431373 ,  0.43529415],\n",
       "        [ 0.5686275 ,  0.5764706 ,  0.58431375, ...,  0.45882356,\n",
       "          0.4431373 ,  0.427451  ],\n",
       "        [ 0.5686275 ,  0.5764706 ,  0.58431375, ...,  0.4666667 ,\n",
       "          0.45098042,  0.4431373 ]],\n",
       "\n",
       "       [[-0.38039213, -0.38039213, -0.3960784 , ..., -0.2235294 ,\n",
       "         -0.2235294 , -0.21568626],\n",
       "        [-0.38823527, -0.38039213, -0.38823527, ..., -0.21568626,\n",
       "         -0.2235294 , -0.2235294 ],\n",
       "        [-0.3960784 , -0.38039213, -0.38039213, ..., -0.20784312,\n",
       "         -0.2235294 , -0.23137254],\n",
       "        ...,\n",
       "        [ 0.56078434,  0.56078434,  0.5686275 , ...,  0.45882356,\n",
       "          0.43529415,  0.427451  ],\n",
       "        [ 0.5529412 ,  0.5529412 ,  0.56078434, ...,  0.45098042,\n",
       "          0.43529415,  0.41960788],\n",
       "        [ 0.54509807,  0.5529412 ,  0.56078434, ...,  0.45882356,\n",
       "          0.4431373 ,  0.43529415]],\n",
       "\n",
       "       [[-0.38823527, -0.38823527, -0.40392154, ..., -0.09803921,\n",
       "         -0.09803921, -0.09019607],\n",
       "        [-0.3960784 , -0.38823527, -0.3960784 , ..., -0.09019607,\n",
       "         -0.09803921, -0.09803921],\n",
       "        [-0.40392154, -0.38823527, -0.38823527, ..., -0.08235294,\n",
       "         -0.09803921, -0.10588235],\n",
       "        ...,\n",
       "        [ 0.4666667 ,  0.4666667 ,  0.47450984, ...,  0.427451  ,\n",
       "          0.4039216 ,  0.39607847],\n",
       "        [ 0.48235297,  0.48235297,  0.4901961 , ...,  0.41176474,\n",
       "          0.39607847,  0.3803922 ],\n",
       "        [ 0.4901961 ,  0.49803925,  0.5058824 , ...,  0.41960788,\n",
       "          0.4039216 ,  0.39607847]]], dtype=float32)], 'pixel_mask': [array([[1, 1, 1, ..., 1, 1, 1],\n",
       "       [1, 1, 1, ..., 1, 1, 1],\n",
       "       [1, 1, 1, ..., 1, 1, 1],\n",
       "       ...,\n",
       "       [1, 1, 1, ..., 1, 1, 1],\n",
       "       [1, 1, 1, ..., 1, 1, 1],\n",
       "       [1, 1, 1, ..., 1, 1, 1]])]}"
      ]
     },
     "execution_count": 12,
     "metadata": {},
     "output_type": "execute_result"
    }
   ],
   "source": [
    "x"
   ]
  }
 ],
 "metadata": {
  "kernelspec": {
   "display_name": "Python 3",
   "language": "python",
   "name": "python3"
  },
  "language_info": {
   "codemirror_mode": {
    "name": "ipython",
    "version": 3
   },
   "file_extension": ".py",
   "mimetype": "text/x-python",
   "name": "python",
   "nbconvert_exporter": "python",
   "pygments_lexer": "ipython3",
   "version": "3.10.12"
  }
 },
 "nbformat": 4,
 "nbformat_minor": 2
}
